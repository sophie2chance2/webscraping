{
 "cells": [
  {
   "cell_type": "code",
   "execution_count": 1,
   "metadata": {},
   "outputs": [],
   "source": [
    "import requests\n",
    "import json\n",
    "import pandas as pd\n",
    "pd.set_option('display.max_columns', None)\n",
    "pd.options.mode.chained_assignment = None\n",
    "import numpy as np\n",
    "import datetime\n",
    "from datetime import date\n",
    "import time\n",
    "from urllib.request import Request, urlopen\n",
    "\n",
    "import urllib.request\n",
    "from bs4 import BeautifulSoup\n",
    "import re\n",
    "\n",
    "import gspread\n",
    "from gspread_dataframe import set_with_dataframe\n",
    "from oauth2client.client import GoogleCredentials\n",
    "from google.oauth2.service_account import Credentials\n",
    "\n",
    "scopes = ['https://www.googleapis.com/auth/spreadsheets', 'https://www.googleapis.com/auth/drive']\n",
    "\n",
    "credentials = {'CREDENTIALS_HERE'}\n",
    "gc = gspread.service_account_from_dict(credentials)"
   ]
  },
  {
   "cell_type": "code",
   "execution_count": 85,
   "metadata": {},
   "outputs": [],
   "source": [
    "wb = gc.open_by_url('https://docs.google.com/spreadsheets/d/1VEl13dz9nGJVkKeNWUOZfimtSHKxg0owkLX-rivMpJc/edit#gid=0')\n",
    "sheet = wb.worksheet('Sheet1')\n",
    "\n",
    "schools = sheet.get_all_values()"
   ]
  },
  {
   "cell_type": "code",
   "execution_count": 90,
   "metadata": {},
   "outputs": [],
   "source": [
    "new_schools = []\n",
    "for i in range(len(schools)):\n",
    "    new_schools.append(schools[i][0])\n",
    "new_schools.remove(\"\")"
   ]
  },
  {
   "cell_type": "code",
   "execution_count": 15,
   "metadata": {},
   "outputs": [],
   "source": [
    "url = \"https://datausa.io/profile/university/college-of-the-siskiyous\"\n",
    "hdr = {'User-Agent': 'Mozilla/5.0 (X11; Linux x86_64) AppleWebKit/537.11 (KHTML, like Gecko) Chrome/23.0.1271.64 Safari/537.11',\n",
    "       'Accept': 'text/html,application/xhtml+xml,application/xml;q=0.9,*/*;q=0.8',\n",
    "       'Accept-Charset': 'ISO-8859-1,utf-8;q=0.7,*;q=0.3',\n",
    "       'Accept-Encoding': 'none',\n",
    "       'Accept-Language': 'en-US,en;q=0.8',\n",
    "       'Connection': 'keep-alive'}\n",
    "\n",
    "req = urllib.request.Request(url, headers=hdr)\n",
    "response = urllib.request.urlopen(req).read()\n",
    "soup = BeautifulSoup(response)"
   ]
  },
  {
   "cell_type": "code",
   "execution_count": 99,
   "metadata": {},
   "outputs": [],
   "source": [
    "for n in range(len(new_schools)):\n",
    "    college_name = new_schools[n]\n",
    "    url = \"https://datausa.io/profile/university/\"+ college_name.replace(' ', '-').lower()\n",
    "\n",
    "    hdr = {'User-Agent': 'Mozilla/5.0 (X11; Linux x86_64) AppleWebKit/537.11 (KHTML, like Gecko) Chrome/23.0.1271.64 Safari/537.11',\n",
    "        'Accept': 'text/html,application/xhtml+xml,application/xml;q=0.9,*/*;q=0.8',\n",
    "        'Accept-Charset': 'ISO-8859-1,utf-8;q=0.7,*;q=0.3',\n",
    "        'Accept-Encoding': 'none',\n",
    "        'Accept-Language': 'en-US,en;q=0.8',\n",
    "        'Connection': 'keep-alive'}\n",
    "    \n",
    "    try:\n",
    "        req = urllib.request.Request(url, headers=hdr)\n",
    "        response = urllib.request.urlopen(req).read()\n",
    "        soup = BeautifulSoup(response)\n",
    "\n",
    "        all_stats = BeautifulSoup(str(soup.find_all('div', class_=\"content-container\")[-1]))\n",
    "        all_stats = all_stats.find_all('div', class_=\"Stat large-text\")\n",
    "\n",
    "        stats_df = pd.DataFrame(columns=['School', 'Link', 'Total Students'])\n",
    "\n",
    "        for i in range(len(all_stats)):\n",
    "            important_stat = all_stats[i]\n",
    "            # print(important_stat)\n",
    "            stat_title = BeautifulSoup(str(important_stat)).find('div',\"stat-title\").text\n",
    "\n",
    "            if stat_title.find('Enrolled Students') != -1:\n",
    "                stat_value = BeautifulSoup(str(important_stat)).find('div',\"stat-value\").text\n",
    "                # print(stat_value)\n",
    "                \n",
    "                stats_df = stats_df.append({'School': college_name, 'Link':url, 'Total Students':stat_value}, ignore_index=True)\n",
    "    except:\n",
    "        continue\n",
    "        \n"
   ]
  },
  {
   "cell_type": "code",
   "execution_count": 100,
   "metadata": {},
   "outputs": [
    {
     "data": {
      "text/html": [
       "<div>\n",
       "<style scoped>\n",
       "    .dataframe tbody tr th:only-of-type {\n",
       "        vertical-align: middle;\n",
       "    }\n",
       "\n",
       "    .dataframe tbody tr th {\n",
       "        vertical-align: top;\n",
       "    }\n",
       "\n",
       "    .dataframe thead th {\n",
       "        text-align: right;\n",
       "    }\n",
       "</style>\n",
       "<table border=\"1\" class=\"dataframe\">\n",
       "  <thead>\n",
       "    <tr style=\"text-align: right;\">\n",
       "      <th></th>\n",
       "      <th>School</th>\n",
       "      <th>Link</th>\n",
       "      <th>Total Students</th>\n",
       "    </tr>\n",
       "  </thead>\n",
       "  <tbody>\n",
       "    <tr>\n",
       "      <th>0</th>\n",
       "      <td>Yuba College</td>\n",
       "      <td>https://datausa.io/profile/university/yuba-col...</td>\n",
       "      <td>5,626</td>\n",
       "    </tr>\n",
       "  </tbody>\n",
       "</table>\n",
       "</div>"
      ],
      "text/plain": [
       "         School                                               Link  \\\n",
       "0  Yuba College  https://datausa.io/profile/university/yuba-col...   \n",
       "\n",
       "  Total Students  \n",
       "0          5,626  "
      ]
     },
     "execution_count": 100,
     "metadata": {},
     "output_type": "execute_result"
    }
   ],
   "source": [
    "stats_df"
   ]
  },
  {
   "cell_type": "code",
   "execution_count": 56,
   "metadata": {},
   "outputs": [
    {
     "data": {
      "text/plain": [
       "<html><body><div class=\"content-container\"><div class=\"profile-stats\"><div class=\"Stat large-text\"><div class=\"stat-title\">2019 Undergraduate Tuition</div><div class=\"stat-value\">$1,104</div><div class=\"stat-subtitle\">0% growth from 2018</div></div><div class=\"Stat large-text\"><div class=\"stat-title\">2019 Average Net Price</div><div class=\"stat-value\">$9,073</div><div class=\"stat-subtitle\">After Financial Aid</div></div><div class=\"Stat large-text\"><div class=\"stat-title\">2017 Student Loan</div><div class=\"stat-value\">20.8%</div><div class=\"stat-subtitle\">Default Rate</div></div><div class=\"Stat large-text\"><div class=\"stat-title\">2019 Enrolled Students</div><div class=\"stat-value\">1,761</div><div class=\"stat-subtitle\">44% Full-Time</div></div><div class=\"Stat large-text\"><div class=\"stat-title\">2018 Graduation Rate</div><div class=\"stat-value\">24%</div><div class=\"stat-subtitle\">35 Graduates</div></div></div></div></body></html>"
      ]
     },
     "execution_count": 56,
     "metadata": {},
     "output_type": "execute_result"
    }
   ],
   "source": [
    "all_stats"
   ]
  },
  {
   "cell_type": "code",
   "execution_count": 52,
   "metadata": {},
   "outputs": [
    {
     "data": {
      "text/plain": [
       "'2019 Undergraduate Tuition'"
      ]
     },
     "execution_count": 52,
     "metadata": {},
     "output_type": "execute_result"
    }
   ],
   "source": [
    "stat_title"
   ]
  },
  {
   "cell_type": "code",
   "execution_count": 53,
   "metadata": {},
   "outputs": [
    {
     "data": {
      "text/plain": [
       "<div class=\"Stat large-text\"><div class=\"stat-title\">2019 Undergraduate Tuition</div><div class=\"stat-value\">$1,104</div><div class=\"stat-subtitle\">0% growth from 2018</div></div>"
      ]
     },
     "execution_count": 53,
     "metadata": {},
     "output_type": "execute_result"
    }
   ],
   "source": [
    "important_stats"
   ]
  },
  {
   "cell_type": "code",
   "execution_count": 54,
   "metadata": {},
   "outputs": [
    {
     "data": {
      "text/html": [
       "<div>\n",
       "<style scoped>\n",
       "    .dataframe tbody tr th:only-of-type {\n",
       "        vertical-align: middle;\n",
       "    }\n",
       "\n",
       "    .dataframe tbody tr th {\n",
       "        vertical-align: top;\n",
       "    }\n",
       "\n",
       "    .dataframe thead th {\n",
       "        text-align: right;\n",
       "    }\n",
       "</style>\n",
       "<table border=\"1\" class=\"dataframe\">\n",
       "  <thead>\n",
       "    <tr style=\"text-align: right;\">\n",
       "      <th></th>\n",
       "      <th>School</th>\n",
       "      <th>Link</th>\n",
       "      <th>Stat Title</th>\n",
       "      <th>Stat Value</th>\n",
       "    </tr>\n",
       "  </thead>\n",
       "  <tbody>\n",
       "  </tbody>\n",
       "</table>\n",
       "</div>"
      ],
      "text/plain": [
       "Empty DataFrame\n",
       "Columns: [School, Link, Stat Title, Stat Value]\n",
       "Index: []"
      ]
     },
     "execution_count": 54,
     "metadata": {},
     "output_type": "execute_result"
    }
   ],
   "source": [
    "stats_df"
   ]
  },
  {
   "cell_type": "code",
   "execution_count": null,
   "metadata": {},
   "outputs": [],
   "source": []
  }
 ],
 "metadata": {
  "interpreter": {
   "hash": "5ac91f7a5f70cea817803aaadfbd242803eede8f0d22cbd4eee632ee2589e7ed"
  },
  "kernelspec": {
   "display_name": "Python 3.8.8 64-bit ('base': conda)",
   "language": "python",
   "name": "python3"
  },
  "language_info": {
   "codemirror_mode": {
    "name": "ipython",
    "version": 3
   },
   "file_extension": ".py",
   "mimetype": "text/x-python",
   "name": "python",
   "nbconvert_exporter": "python",
   "pygments_lexer": "ipython3",
   "version": "3.8.8"
  },
  "orig_nbformat": 4
 },
 "nbformat": 4,
 "nbformat_minor": 2
}
