{
 "cells": [
  {
   "cell_type": "code",
   "execution_count": 1,
   "metadata": {},
   "outputs": [],
   "source": [
    "import requests\n",
    "import json\n",
    "import pandas as pd\n",
    "pd.set_option('display.max_columns', None)\n",
    "pd.options.mode.chained_assignment = None\n",
    "import numpy as np\n",
    "import datetime\n",
    "from datetime import date\n",
    "import time\n",
    "from urllib.request import Request, urlopen\n",
    "\n",
    "import urllib.request\n",
    "from bs4 import BeautifulSoup\n",
    "import re\n",
    "\n",
    "import gspread\n",
    "from gspread_dataframe import set_with_dataframe\n",
    "from oauth2client.client import GoogleCredentials\n",
    "from google.oauth2.service_account import Credentials\n",
    "\n",
    "scopes = ['https://www.googleapis.com/auth/spreadsheets', 'https://www.googleapis.com/auth/drive']\n",
    "\n",
    "credentials = {'CREDENTIALS_HERE'}\n",
    "gc = gspread.service_account_from_dict(credentials)"
   ]
  },
  {
   "cell_type": "code",
   "execution_count": 2,
   "metadata": {},
   "outputs": [],
   "source": [
    "def clean_hubspot_export(csv = 'all-companies.csv'):\n",
    "    all_companies_info_df = pd.read_csv(csv)\n",
    "    all_companies_info_df = all_companies_info_df[all_companies_info_df['ICP?'] != 'Non-ICP']\n",
    "    all_companies_info_df = all_companies_info_df.reset_index().drop('index', axis=1)\n",
    "    all_companies_df = all_companies_info_df.reindex(['Record ID', 'Company name', 'Website URL', 'City', 'State', 'Full Address', 'Record Type', 'ICP?', 'Phone Number'], axis=1)\n",
    "    all_companies_df = all_companies_df.rename({'Website URL':'Website'}, axis=1)\n",
    "    all_companies_df = all_companies_df.fillna('')\n",
    "\n",
    "    return all_companies_df"
   ]
  },
  {
   "cell_type": "code",
   "execution_count": 3,
   "metadata": {},
   "outputs": [],
   "source": [
    "def clean_data(_df):\n",
    "    for i in range(len(_df)):\n",
    "        _df['Phone Number'] = _df['Phone Number'].astype(str)\n",
    "        \n",
    "        if ',' in _df['Website'][i]:\n",
    "            _df['Website'][i] = _df['Website'][i].split(',')[0]\n",
    "        _df['Website'][i] = _df['Website'][i].replace('https://', '').replace('http://', '').replace('www.', '').rstrip('/')\n",
    "\n",
    "        num=''\n",
    "        for j in range(len(_df['Phone Number'][i])):\n",
    "            char = _df['Phone Number'][i][j]\n",
    "            if char.isdigit():\n",
    "                num += char\n",
    "        num = num.lstrip('1')\n",
    "        _df['Phone Number'][i] = num\n",
    "    return _df"
   ]
  },
  {
   "cell_type": "code",
   "execution_count": 5,
   "metadata": {},
   "outputs": [],
   "source": [
    "def match(df_1, df_2):\n",
    "    # df_1 = external Data\n",
    "    # df_2 = hubspot Data\n",
    "\n",
    "    matched_df = pd.DataFrame()\n",
    "    df_1['Hubspot ID'] = ''\n",
    "    df_1['Hubspot Name'] = ''\n",
    "    df_1['Matched On'] = ''\n",
    "\n",
    "    for i in range(len(df_1)): \n",
    "        for j in range(len(df_2)): \n",
    "            # Assign the city as the city in the name for Hubspot DF\n",
    "            try:\n",
    "                df_2['City'][j] = df_2['Company name'][j].split(' - ')[1]\n",
    "            except:\n",
    "                df_2['City'][j] = df_2['City'][j]\n",
    "\n",
    "            ### Matching process\n",
    "            # Match on website\n",
    "            if (df_1['Website'][i] != '' and df_2['Website'][j] != '' and df_1['Website'][i] == df_2['Website'][j]) and (df_2['City'][j] in df_1['Full Address'][i] and df_2['City'][j] != ''):\n",
    "                df_1['Hubspot ID'][i] = df_2['Record ID'][j]\n",
    "                df_1['Hubspot Name'][i] = df_2['Company name'][j]\n",
    "                df_1['Matched On'][i] = 'Website'\n",
    "\n",
    "            # Match on Phone Number\n",
    "            elif (df_1['Phone Number'][i] == df_2['Phone Number'][j]) and (df_2['Phone Number'][j] != '') and (df_2['City'][j] in df_1['Full Address'][i] and df_2['City'][j] != ''):\n",
    "                df_1['Hubspot ID'][i] = df_2['Record ID'][j]\n",
    "                df_1['Hubspot Name'][i] = df_2['Company name'][j]\n",
    "                df_1['Matched On'][i] = 'Phone'\n",
    "\n",
    "\n",
    "            # Match on Name\n",
    "            elif (df_1['Company name'][i] in df_2['Company name'][j] or df_2['Company name'][j] in df_1['Company name'][i]) and (df_2['City'][j] in df_1['Full Address'][i] and df_2['City'][j] != ''):\n",
    "                df_1['Hubspot ID'][i] = df_2['Record ID'][j]\n",
    "                df_1['Hubspot Name'][i] = df_2['Company name'][j]\n",
    "                df_1['Matched On'][i] = 'Name'\n",
    "            else:\n",
    "                continue\n",
    "    \n",
    "    return df_1"
   ]
  },
  {
   "cell_type": "markdown",
   "metadata": {},
   "source": [
    "### EMS Schools"
   ]
  },
  {
   "cell_type": "code",
   "execution_count": 2,
   "metadata": {},
   "outputs": [],
   "source": [
    "ems_wb = gc.open_by_url('https://docs.google.com/spreadsheets/d/1mUbB48_bVclseWFWOnMyfsrIKhPGUP3VmpO6JZZPFu8/edit#gid=14726155628')\n",
    "ems_school_sheet = ems_wb.worksheet('Project 3 - Data')"
   ]
  },
  {
   "cell_type": "code",
   "execution_count": 35,
   "metadata": {},
   "outputs": [],
   "source": [
    "ems_schools_df = pd.DataFrame(ems_school_sheet.get_all_records())\n",
    "ems_schools_df = ems_schools_df[ems_schools_df['ICP?'] == 'ICP']\n",
    "ems_schools_df = ems_schools_df.reset_index().drop('index', axis=1)\n",
    "# ems_schools_df = ems_schools_df.reindex(['Company name', 'Website', 'City', 'State', 'Full Address', 'Phone Number'], axis=1)\n",
    "ems_schools_df = ems_schools_df.fillna('')\n",
    "\n",
    "all_companies_info_df = pd.read_csv('all-companies 5.csv')\n",
    "all_companies_info_df = all_companies_info_df[all_companies_info_df['ICP?'] != 'Non-ICP']\n",
    "all_companies_info_df = all_companies_info_df.reset_index().drop('index', axis=1)\n",
    "all_companies_df = all_companies_info_df.reindex(['Company ID', 'Company name', 'Website URL', 'City', 'State', 'Full Address', 'Record Type', 'ICP?', 'Phone Number'], axis=1)\n",
    "all_companies_df = all_companies_df.rename({'Website URL':'Website'}, axis=1)\n",
    "all_companies_df = all_companies_df.fillna('')"
   ]
  },
  {
   "cell_type": "code",
   "execution_count": 41,
   "metadata": {},
   "outputs": [],
   "source": [
    "ems_schools_df = clean_data(ems_schools_df)\n",
    "all_companies_df = clean_data(all_companies_df)\n",
    "\n",
    "matched_df = match(ems_schools_df, all_companies_df)\n",
    "\n",
    "# matched_sheet = ems_wb.worksheet('Matched 2')\n",
    "# set_with_dataframe(matched_sheet, matched_df)"
   ]
  },
  {
   "cell_type": "markdown",
   "metadata": {},
   "source": [
    "9/8/2022 "
   ]
  },
  {
   "cell_type": "markdown",
   "metadata": {},
   "source": [
    "### Accreditor Pull"
   ]
  },
  {
   "cell_type": "code",
   "execution_count": 6,
   "metadata": {},
   "outputs": [
    {
     "name": "stderr",
     "output_type": "stream",
     "text": [
      "/var/folders/k6/gc55jlbs00z7sxrx8y36_2940000gn/T/ipykernel_31503/4069183239.py:2: DtypeWarning: Columns (17,22,23,45,63,83,84,113,116,119,121,149,161,165,175,189) have mixed types. Specify dtype option on import or set low_memory=False.\n",
      "  all_companies_info_df = pd.read_csv(csv)\n"
     ]
    }
   ],
   "source": [
    "all_companies_df = clean_hubspot_export()\n",
    "all_companies_df = clean_data(all_companies_df)"
   ]
  },
  {
   "cell_type": "code",
   "execution_count": 15,
   "metadata": {},
   "outputs": [],
   "source": [
    "accred_wb = gc.open_by_url('https://docs.google.com/spreadsheets/d/1S32UvSdTLSd_7jRf3fP_yt-ahhgPUm31QiP8BYp-p1o/edit#gid=0')\n",
    "# accsc_df = pd.DataFrame(accred_wb.worksheet('ACCSC').get_all_records())\n",
    "# abhes_df = pd.DataFrame(accred_wb.worksheet('ABHES').get_all_records())\n",
    "# accet_df = pd.DataFrame(accred_wb.worksheet('ACCET').get_all_records())\n",
    "# coe_df = pd.DataFrame(accred_wb.worksheet('COE').get_all_records())\n",
    "# acics_df = pd.DataFrame(accred_wb.worksheet('ACICS').get_all_records())\n",
    "deac_df = pd.DataFrame(accred_wb.worksheet('DEAC').get_all_records())"
   ]
  },
  {
   "cell_type": "code",
   "execution_count": 16,
   "metadata": {},
   "outputs": [],
   "source": [
    "# accsc_df = clean_data(accsc_df)\n",
    "# abhes_df = clean_data(abhes_df)\n",
    "# accet_df = clean_data(accet_df)\n",
    "# coe_df = clean_data(coe_df)\n",
    "# acics_df = clean_data(acics_df)\n",
    "deac_df = clean_data(deac_df)"
   ]
  },
  {
   "cell_type": "code",
   "execution_count": 17,
   "metadata": {},
   "outputs": [],
   "source": [
    "# abhes_matched_df = match(abhes_df, all_companies_df)\n",
    "# accet_matched_df = match(accet_df, all_companies_df)\n",
    "# coe_matched_df = match(coe_df, all_companies_df)\n",
    "# acics_matched_df = match(acics_df, all_companies_df)\n",
    "deac_matched_df = match(deac_df, all_companies_df)"
   ]
  },
  {
   "cell_type": "code",
   "execution_count": 13,
   "metadata": {},
   "outputs": [],
   "source": [
    "# abhes_matched_df.to_csv('abhes_matched.csv')\n",
    "# accet_matched_df.to_csv('accet_matched.csv')\n",
    "# coe_matched_df.to_csv('coe_matched.csv')\n",
    "# acics_matched_df.to_csv('acics_matched.csv')\n",
    "deac_matched_df.to_csv('deac_matched.csv')"
   ]
  },
  {
   "cell_type": "code",
   "execution_count": null,
   "metadata": {},
   "outputs": [],
   "source": []
  }
 ],
 "metadata": {
  "kernelspec": {
   "display_name": "Python 3.9.12 ('base')",
   "language": "python",
   "name": "python3"
  },
  "language_info": {
   "codemirror_mode": {
    "name": "ipython",
    "version": 3
   },
   "file_extension": ".py",
   "mimetype": "text/x-python",
   "name": "python",
   "nbconvert_exporter": "python",
   "pygments_lexer": "ipython3",
   "version": "3.9.12"
  },
  "orig_nbformat": 4,
  "vscode": {
   "interpreter": {
    "hash": "5ac91f7a5f70cea817803aaadfbd242803eede8f0d22cbd4eee632ee2589e7ed"
   }
  }
 },
 "nbformat": 4,
 "nbformat_minor": 2
}
